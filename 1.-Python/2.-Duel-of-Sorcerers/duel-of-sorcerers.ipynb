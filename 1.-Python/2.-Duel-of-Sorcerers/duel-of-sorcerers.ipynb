{
 "cells": [
  {
   "cell_type": "markdown",
   "metadata": {},
   "source": [
    "<img src=\"https://bit.ly/2VnXWr2\" width=\"100\" align=\"left\">"
   ]
  },
  {
   "cell_type": "markdown",
   "metadata": {},
   "source": [
    "# Duel of Sorcerers\n",
    "You are witnessing an epic battle between two powerful sorcerers: Gandalf and Saruman. Each sorcerer has 10 spells of variable power in their mind and they are going to throw them one after the other. The winner of the duel will be the one who wins more of those clashes between spells. Spells are represented as a list of 10 integers whose value equals the power of the spell.\n",
    "```\n",
    "gandalf = [10, 11, 13, 30, 22, 11, 10, 33, 22, 22]\n",
    "saruman = [23, 66, 12, 43, 12, 10, 44, 23, 12, 17]\n",
    "```\n",
    "For example:\n",
    "- The first clash is won by Saruman: 10 against 23.\n",
    "- The second clash is won by Saruman: 11 against 66.\n",
    "- ...\n",
    "\n",
    "You will create two variables, one for each sorcerer, where the sum of clashes won will be stored. Depending on which variable is greater at the end of the duel, you will show one of the following three results on the screen:\n",
    "* Gandalf wins\n",
    "* Saruman wins\n",
    "* Tie\n",
    "\n",
    "<img src=\"images/content_lightning_bolt_big.jpg\" width=\"400\">"
   ]
  },
  {
   "cell_type": "markdown",
   "metadata": {},
   "source": [
    "## Tools\n",
    "You don't necessarily need to use all the tools. Maybe you opt to use some of them or completely different ones, they are given to help you shape the exercise. Programming exercises can be solved in many different ways.\n",
    "\n",
    "1. Data structures: **lists, dictionaries**\n",
    "2. Loop: **for loop**\n",
    "3. Conditional statements: **if-elif-else**\n",
    "4. Functions: **range(), len(), print()**\n",
    "\n",
    "## Tasks\n",
    "\n",
    "#### 1. Create two variables called `gandalf` and `saruman` and assign them the spell power lists. Create a variable called `spells` to store the number of spells that the sorcerers cast. "
   ]
  },
  {
   "cell_type": "code",
   "execution_count": 1,
   "metadata": {},
   "outputs": [],
   "source": [
    "# define variables gandalf and saruman\n",
    "gandalf = [10, 11, 13, 30, 22, 11, 10, 33, 22, 22]\n",
    "saruman = [23, 66, 12, 43, 12, 10, 44, 23, 12, 17]\n",
    "# create variable spells\n",
    "spells = []"
   ]
  },
  {
   "cell_type": "markdown",
   "metadata": {},
   "source": [
    "#### 2. Create two variables called `gandalf_wins` and `saruman_wins`. Set both of them to 0. \n",
    "You will use these variables to count the number of clashes each sorcerer wins. "
   ]
  },
  {
   "cell_type": "code",
   "execution_count": 2,
   "metadata": {},
   "outputs": [],
   "source": [
    "#create win counts for sorcerers\n",
    "gandalf_wins = 0\n",
    "saruman_wins = 0"
   ]
  },
  {
   "cell_type": "markdown",
   "metadata": {},
   "source": [
    "#### 3. Using the lists of spells of both sorcerers, update variables `gandalf_wins` and `saruman_wins` to count the number of times each sorcerer wins a clash. "
   ]
  },
  {
   "cell_type": "code",
   "execution_count": 3,
   "metadata": {},
   "outputs": [
    {
     "output_type": "stream",
     "name": "stdout",
     "text": [
      "Gandalf vs Saruman [10, 23]! Saruman wins the round!\nGandalf vs Saruman [11, 66]! Saruman wins the round!\nGandalf vs Saruman [13, 12]! Gandalf wins the round!\nGandalf vs Saruman [30, 43]! Saruman wins the round!\nGandalf vs Saruman [22, 12]! Gandalf wins the round!\nGandalf vs Saruman [11, 10]! Gandalf wins the round!\nGandalf vs Saruman [10, 44]! Saruman wins the round!\nGandalf vs Saruman [33, 23]! Gandalf wins the round!\nGandalf vs Saruman [22, 12]! Gandalf wins the round!\nGandalf vs Saruman [22, 17]! Gandalf wins the round!\n"
     ]
    },
    {
     "output_type": "execute_result",
     "data": {
      "text/plain": [
       "[(0, [10, 23]),\n",
       " (1, [11, 66]),\n",
       " (2, [13, 12]),\n",
       " (3, [30, 43]),\n",
       " (4, [22, 12]),\n",
       " (5, [11, 10]),\n",
       " (6, [10, 44]),\n",
       " (7, [33, 23]),\n",
       " (8, [22, 12]),\n",
       " (9, [22, 17])]"
      ]
     },
     "metadata": {},
     "execution_count": 3
    }
   ],
   "source": [
    "# create loop to iterate through each list and compare values\n",
    "for g,s in zip(gandalf,saruman):\n",
    "    clash = [g,s]\n",
    "    if g > s:\n",
    "        gandalf_wins += 1\n",
    "        print(f\"Gandalf vs Saruman {clash}! Gandalf wins the round!\")\n",
    "    elif s > g:\n",
    "        saruman_wins += 1\n",
    "        print(f\"Gandalf vs Saruman {clash}! Saruman wins the round!\")\n",
    "    else:\n",
    "        print(\"The wizards are at a stalemate...\")\n",
    "    spells.append(clash)\n",
    "\n",
    "list(enumerate(spells))\n",
    "\n"
   ]
  },
  {
   "cell_type": "markdown",
   "metadata": {},
   "source": [
    "#### 4. Who won the battle?\n",
    "Print `Gandalf wins`, `Saruman wins` or `Tie` depending on the result. "
   ]
  },
  {
   "cell_type": "code",
   "execution_count": 4,
   "metadata": {},
   "outputs": [
    {
     "output_type": "stream",
     "name": "stdout",
     "text": [
      "The duel has ended. The Wizard Gandalf stands victorious having triumphed 6 times.\n"
     ]
    }
   ],
   "source": [
    "if gandalf_wins > saruman_wins:\n",
    "    print(f\"The duel has ended. The Wizard Gandalf stands victorious having triumphed {gandalf_wins} times.\")\n",
    "elif gandalf_wins < saruman_wins:\n",
    "    print(f\"The duel has ended. The Wizard Saruman stands victorious having triumphed {saruman_wins} times.\")\n",
    "else:\n",
    "    print(\"TIE!\\nIt seems the sorcerers are at an impasse...\")"
   ]
  },
  {
   "cell_type": "markdown",
   "metadata": {},
   "source": [
    "## Bonus\n",
    "\n",
    "In this bonus challenge, you'll need to check the winner of the battle but this time, a sorcerer wins if he succeeds in winning 3 spell clashes in a row.\n",
    "\n",
    "Also, the spells now have a name and there is a dictionary that associates that name to a power.\n",
    "\n",
    "```\n",
    "POWER = {\n",
    "    'Fireball': 50, \n",
    "    'Lightning bolt': 40, \n",
    "    'Magic arrow': 10, \n",
    "    'Black Tentacles': 25, \n",
    "    'Contagion': 45\n",
    "}\n",
    "\n",
    "gandalf = ['Fireball', 'Lightning bolt', 'Lightning bolt', 'Magic arrow', 'Fireball', \n",
    "           'Magic arrow', 'Lightning bolt', 'Fireball', 'Fireball', 'Fireball']\n",
    "saruman = ['Contagion', 'Contagion', 'Black Tentacles', 'Fireball', 'Black Tentacles', \n",
    "           'Lightning bolt', 'Magic arrow', 'Contagion', 'Magic arrow', 'Magic arrow']\n",
    "```\n",
    "\n",
    "#### 1. Create variables `POWER`, `gandalf` and `saruman` as seen above. Create a variable called `spells` to store the number of spells that the sorcerers cast. "
   ]
  },
  {
   "cell_type": "code",
   "execution_count": 41,
   "metadata": {},
   "outputs": [],
   "source": [
    "# create dictionary of spells\n",
    "POWER = {\n",
    "    'Fireball': 50, \n",
    "    'Lightning bolt': 40, \n",
    "    'Magic arrow': 10, \n",
    "    'Black Tentacles': 25, \n",
    "    'Contagion': 45\n",
    "}\n",
    "#assign spell lists to gandalf and saruman \n",
    "gandalf = ['Fireball', 'Lightning bolt', 'Lightning bolt', 'Magic arrow', 'Fireball', \n",
    "           'Magic arrow', 'Lightning bolt', 'Fireball', 'Fireball', 'Fireball']\n",
    "saruman = ['Contagion', 'Contagion', 'Black Tentacles', 'Fireball', 'Black Tentacles', \n",
    "           'Lightning bolt', 'Magic arrow', 'Contagion', 'Magic arrow', 'Magic arrow']\n",
    "\n",
    "#create variable spells to track spells used\n",
    "spells = []"
   ]
  },
  {
   "cell_type": "markdown",
   "metadata": {},
   "source": [
    "#### 2. Create two variables called `gandalf_wins` and `saruman_wins`. Set both of them to 0. "
   ]
  },
  {
   "cell_type": "code",
   "execution_count": 42,
   "metadata": {},
   "outputs": [],
   "source": [
    "#create win counts\n",
    "gandalf_wins = 0\n",
    "saruman_wins = 0"
   ]
  },
  {
   "cell_type": "markdown",
   "metadata": {},
   "source": [
    "#### 3. Create two variables called `gandalf_power` and `saruman_power` to store the list of spell powers of each sorcerer."
   ]
  },
  {
   "cell_type": "code",
   "execution_count": 43,
   "metadata": {},
   "outputs": [],
   "source": [
    "gandalf_power = []\n",
    "saruman_power = []"
   ]
  },
  {
   "cell_type": "markdown",
   "metadata": {},
   "source": [
    "#### 4. The battle starts! Using the variables you've created above, code the execution of spell clashes. Remember that a sorcerer wins if he succeeds in winning 3 spell clashes in a row. \n",
    "If a clash ends up in a tie, the counter of wins in a row is not restarted to 0. Remember to print who is the winner of the battle. "
   ]
  },
  {
   "cell_type": "code",
   "execution_count": 44,
   "metadata": {
    "tags": []
   },
   "outputs": [
    {
     "output_type": "stream",
     "name": "stdout",
     "text": [
      "Gandalf vs Saruman [50, 45]! Gandalf wins the round!\nGandalf vs Saruman [40, 45]! Saruman wins the round!\nGandalf vs Saruman [40, 25]! Gandalf wins the round!\nGandalf vs Saruman [10, 50]! Saruman wins the round!\nGandalf vs Saruman [50, 25]! Gandalf wins the round!\nGandalf vs Saruman [10, 40]! Saruman wins the round!\nGandalf vs Saruman [40, 10]! Gandalf wins the round!\nGandalf vs Saruman [50, 45]! Gandalf wins the round!\nGandalf vs Saruman [50, 10]! Gandalf wins the round!\nThe wizards are at a stalemate...\nThe duel has ended. The Wizard Gandalf stands victorious having triumphed three times in a row.\n[[50, 45], [40, 45], [40, 25], [10, 50], [50, 25], [10, 40], [40, 10], [50, 45], [50, 10], [50, 10]]\n"
     ]
    }
   ],
   "source": [
    "# create loop to iterate through zipped list and assign power values from spells \n",
    "for g,s in zip(gandalf,saruman):\n",
    "    gandalf_power.append(POWER[g]) \n",
    "    saruman_power.append(POWER[s])\n",
    "   \n",
    "for g,s in zip(gandalf_power,saruman_power):\n",
    "    clash = [g,s]\n",
    "    spells.append(clash)\n",
    "    if gandalf_wins <3 and g > s:\n",
    "        gandalf_wins += 1\n",
    "        print(f\"Gandalf vs Saruman {clash}! Gandalf wins the round!\")\n",
    "        saruman_wins = 0\n",
    "    elif saruman_wins < 3 and s > g:\n",
    "        saruman_wins += 1\n",
    "        print(f\"Gandalf vs Saruman {clash}! Saruman wins the round!\")   \n",
    "        gandalf_wins = 0\n",
    "    else:\n",
    "        print(\"The wizards are at a stalemate...\")\n",
    "\n",
    "\n",
    "if gandalf_wins == 3:\n",
    "    print(f\"The duel has ended. The Wizard Gandalf stands victorious having triumphed three times in a row.\")\n",
    "elif saruman_wins == 3:\n",
    "    print(f\"The duel has ended. The Wizard Saruman stands victorious having triumphed three times in a row.\")\n",
    "\n",
    "print(spells)"
   ]
  },
  {
   "cell_type": "markdown",
   "metadata": {},
   "source": [
    "#### 5. Find the average spell power of Gandalf and Saruman. "
   ]
  },
  {
   "cell_type": "code",
   "execution_count": 48,
   "metadata": {},
   "outputs": [
    {
     "output_type": "stream",
     "name": "stdout",
     "text": [
      "The average spell power of Gandalf the Grey was 39.0.\nThe average spell power of Saruman the White was 30.5.\n[5, 5, 15, 40, 25, 30, 30, 5, 40, 40]\nThe average difference in spell power was 23.5.\n"
     ]
    }
   ],
   "source": [
    "import numpy as np\n",
    "#find average spell power of Gandalf\n",
    "gandalf_avg = np.mean(gandalf_power)\n",
    "# find avg spell power of Saruman\n",
    "saruman_avg = np.mean(saruman_power)\n",
    "print(f\"The average spell power of Gandalf the Grey was {gandalf_avg}.\\nThe average spell power of Saruman the White was {saruman_avg}.\")\n",
    "\n",
    "# find average difference in power between spells cast\n",
    "spell_diff = []\n",
    "for c in spells:\n",
    "        if c[0] >= c[1]:\n",
    "            spell_diff.append(c[0]-c[1])\n",
    "        else:\n",
    "            spell_diff.append(c[1]-c[0])\n",
    "avg_spell_diff = np.mean(spell_diff)\n",
    "print(f\"The average difference in spell power was {avg_spell_diff}.\")"
   ]
  },
  {
   "cell_type": "markdown",
   "metadata": {},
   "source": [
    "#### 6. Find the standard deviation of the spell power of Gandalf and Saruman. "
   ]
  },
  {
   "cell_type": "code",
   "execution_count": 54,
   "metadata": {},
   "outputs": [
    {
     "output_type": "stream",
     "name": "stdout",
     "text": [
      "The standard deviation of Gandalf´s spell power was 15.13.\nThe standard deviation of Saruman´s spell power was 15.56.\nThe standard deviation of the difference between Gandalf and Saruman's spells was 14.15.\n"
     ]
    }
   ],
   "source": [
    "# Find standard deviation in spell power for Gandalf\n",
    "gandalf_std = np.round(np.std(gandalf_power),2)\n",
    "print(f\"The standard deviation of Gandalf´s spell power was {gandalf_std}.\")\n",
    "# Find standard deviation in spell power for Saruman\n",
    "saruman_std = np.round(np.std(saruman_power),2)\n",
    "print(f\"The standard deviation of Saruman´s spell power was {saruman_std}.\")\n",
    "# find standard deviation of average difference in spell power between Gandalf and Saruman\n",
    "spell_diff_std = np.round(np.std(spell_diff),2)\n",
    "print(f\"The standard deviation of the difference between Gandalf and Saruman's spells was {spell_diff_std}.\")"
   ]
  },
  {
   "cell_type": "code",
   "execution_count": null,
   "metadata": {},
   "outputs": [],
   "source": []
  }
 ],
 "metadata": {
  "kernelspec": {
   "name": "python3",
   "display_name": "Python 3.9.6 64-bit"
  },
  "language_info": {
   "codemirror_mode": {
    "name": "ipython",
    "version": 3
   },
   "file_extension": ".py",
   "mimetype": "text/x-python",
   "name": "python",
   "nbconvert_exporter": "python",
   "pygments_lexer": "ipython3",
   "version": "3.9.6"
  },
  "interpreter": {
   "hash": "aedf8f1d51000f588b88a278d8030ee8b8cb0ccbfbd1b6163ec7fb88fccbe87e"
  }
 },
 "nbformat": 4,
 "nbformat_minor": 2
}