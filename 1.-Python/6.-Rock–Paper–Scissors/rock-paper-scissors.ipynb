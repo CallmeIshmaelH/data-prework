{
 "cells": [
  {
   "cell_type": "markdown",
   "metadata": {},
   "source": [
    "<img src=\"https://bit.ly/2VnXWr2\" width=\"100\" align=\"left\">"
   ]
  },
  {
   "cell_type": "markdown",
   "metadata": {},
   "source": [
    "# Rock, Paper & Scissors\n",
    "\n",
    "Let's play the famous game against our computer. You can check the rules [here](https://en.wikipedia.org/wiki/Rock%E2%80%93paper%E2%80%93scissors). \n",
    "\n",
    "## Task\n",
    "Create a program that imitates the playability of the well known game of rock, paper, scissors. Follow the guidelines provided.\n",
    "\n",
    "## Tools\n",
    "1. Loop: **for/while**\n",
    "2. Functions: **input(), print()...**\n",
    "3. Conditional statements: **if, elif, else**\n",
    "4. Definition of functions. Modular programming\n",
    "5. Import modules\n",
    "\n",
    "**To solve this challenge, the use of functions is recommended.**\n",
    "\n",
    "#### 1. Import the choice function of the random module."
   ]
  },
  {
   "cell_type": "code",
   "execution_count": 1,
   "metadata": {},
   "outputs": [],
   "source": [
    "# import choice from random module\n",
    "import random\n",
    "from random import choice"
   ]
  },
  {
   "cell_type": "markdown",
   "metadata": {},
   "source": [
    "#### 2. Create a list that includes the 3 possible gesture options of the game: 'rock', 'paper' or 'scissors'. Store the list in a variable called `gestures`."
   ]
  },
  {
   "cell_type": "code",
   "execution_count": 2,
   "metadata": {},
   "outputs": [],
   "source": [
    "# create Rock-Paper-Scissors choice list gestures\n",
    "\n",
    "gestures =[\"rock\",\"paper\",\"scissors\"]"
   ]
  },
  {
   "cell_type": "markdown",
   "metadata": {},
   "source": [
    "#### 3. Create a variable called `n_rounds` to store the maximum number of rounds to play in a game. \n",
    "Remember that the number of rounds must be odd: 1, 3, 5, ..."
   ]
  },
  {
   "cell_type": "code",
   "execution_count": 15,
   "metadata": {},
   "outputs": [
    {
     "output_type": "stream",
     "name": "stdout",
     "text": [
      "You can't play an even number of rounds. Choose an ODD number.\n",
      "Thank you.\n",
      "You chose to play 3 round/s.\n"
     ]
    }
   ],
   "source": [
    "#create rounds for a game\n",
    "n_rounds = 0\n",
    "#set user control to allow selection of rounds\n",
    "while n_rounds == 0:\n",
    "    try:\n",
    "        choice = int(input(\"How many rounds do you want to play?\"))\n",
    "    except:\n",
    "        choice = int(input(\"That is not a valid selection. Please choose a number.\"))\n",
    "    if choice % 2 == 0:\n",
    "        print(\"You can't play an even number of rounds. Choose an ODD number.\")\n",
    "    else:\n",
    "        print(\"Thank you.\")\n",
    "        n_rounds = choice\n",
    "print(f\"You chose to play {n_rounds} round/s.\")"
   ]
  },
  {
   "cell_type": "markdown",
   "metadata": {},
   "source": [
    "#### 4. Create a variable called `rounds_to_win` to store the number of rounds that a player must win to win the game.\n",
    "**Hint**: the value stored in `rounds_to_win` depends on the value of `n_rounds`. "
   ]
  },
  {
   "cell_type": "code",
   "execution_count": 4,
   "metadata": {},
   "outputs": [
    {
     "output_type": "stream",
     "name": "stdout",
     "text": [
      "2\n"
     ]
    }
   ],
   "source": [
    "#create rounds_to_win variable\n",
    "rounds_to_win = int((n_rounds+1)/2)\n",
    "print(rounds_to_win)"
   ]
  },
  {
   "cell_type": "markdown",
   "metadata": {},
   "source": [
    "#### 5. Create two variables to store the number of rounds that the computer and the player have won. Call these variables `cpu_score` and `player_score`."
   ]
  },
  {
   "cell_type": "code",
   "execution_count": 5,
   "metadata": {},
   "outputs": [],
   "source": [
    "# create score counter variables\n",
    "cpu_score = 0\n",
    "player_score = 0"
   ]
  },
  {
   "cell_type": "markdown",
   "metadata": {},
   "source": [
    "#### 6. Define a function that randomly returns one of the 3 gesture options.\n",
    "You will use this function to simulate the gesture choice of the computer. "
   ]
  },
  {
   "cell_type": "code",
   "execution_count": 6,
   "metadata": {},
   "outputs": [
    {
     "output_type": "execute_result",
     "data": {
      "text/plain": [
       "'\\n#test function\\nfor i in range(1,10):\\n    print(cpu_choice(gestures))\\n'"
      ]
     },
     "metadata": {},
     "execution_count": 6
    }
   ],
   "source": [
    "# define function for random gesture\n",
    "def cpu_choice(choice_list):\n",
    "    cpu = random.choice(choice_list)\n",
    "    return cpu\n",
    "\"\"\"\n",
    "#test function\n",
    "for i in range(1,10):\n",
    "    print(cpu_choice(gestures))\n",
    "\"\"\""
   ]
  },
  {
   "cell_type": "markdown",
   "metadata": {},
   "source": [
    "#### 7. Define a function that asks the player which is the gesture he or she wants to show: 'rock', 'paper' or 'scissors'.\n",
    "The player should only be allowed to choose one of the 3 gesture options. If the player's choice is not rock, paper or scissors, keep asking until it is."
   ]
  },
  {
   "cell_type": "code",
   "execution_count": 7,
   "metadata": {
    "tags": []
   },
   "outputs": [
    {
     "output_type": "execute_result",
     "data": {
      "text/plain": [
       "'# test function\\nprint(player_choice(gestures))\\n'"
      ]
     },
     "metadata": {},
     "execution_count": 7
    }
   ],
   "source": [
    "# define function to take in Player_choice\n",
    "def player_choice(choice_list):\n",
    "    player_throw = False\n",
    "    player = input(\"Choose your throw. Choose 'Rock','Paper' or 'Scissors'?\").lower()\n",
    "    while not player_throw:\n",
    "        if player not in choice_list:\n",
    "            print(\"That is not a valid choice. Please, try again.\")\n",
    "            player = input( \"Choose 'Rock','Paper' or 'Scissors'.\").lower()\n",
    "        else:\n",
    "            player_throw = True\n",
    "            return player\n",
    "\"\"\"# test function\n",
    "print(player_choice(gestures))\n",
    "\"\"\""
   ]
  },
  {
   "cell_type": "markdown",
   "metadata": {},
   "source": [
    "#### 8. Define a function that checks who won a round. \n",
    "The function should return 0 if there is a tie, 1 if the computer wins and 2 if the player wins."
   ]
  },
  {
   "cell_type": "code",
   "execution_count": 8,
   "metadata": {},
   "outputs": [
    {
     "output_type": "execute_result",
     "data": {
      "text/plain": [
       "'\\n#test function\\np1 = \"scissors\"\\ncpu1 = \"scissors\"\\nprint(win_chk(p1,cpu1))\\n'"
      ]
     },
     "metadata": {},
     "execution_count": 8
    }
   ],
   "source": [
    "# define function for checking win, lose, tie\n",
    "\n",
    "def win_chk(player, cpu):\n",
    "    tie = 0\n",
    "    cp_win = 1\n",
    "    p_win = 2\n",
    "    if player == \"rock\" and cpu == \"scissors\" or player == \"paper\" and cpu == \"rock\" or player == \"scissors\" and cpu == \"paper\":\n",
    "        return p_win\n",
    "    elif cpu == \"rock\" and player == \"scissors\" or cpu == \"paper\" and player == \"rock\" or cpu == \"scissors\" and player == \"paper\":\n",
    "        return cp_win\n",
    "    else:\n",
    "        return tie\n",
    "\"\"\"\n",
    "#test function\n",
    "p1 = \"scissors\"\n",
    "cpu1 = \"scissors\"\n",
    "print(win_chk(p1,cpu1))\n",
    "\"\"\"\n"
   ]
  },
  {
   "cell_type": "markdown",
   "metadata": {},
   "source": [
    "#### 9. Define a function that prints the choice of the computer, the choice of the player and a message that announces who won the current round. \n",
    "You should also use this function to update the variables that count the number of rounds that the computer and the player have won. The score of the winner increases by one point. If there is a tie, the score does not increase."
   ]
  },
  {
   "cell_type": "code",
   "execution_count": 11,
   "metadata": {},
   "outputs": [],
   "source": [
    "#define function to print cpu choice, player choice and announce winner\n",
    "def game_update(p_choice, cpu_choice):\n",
    "    # report choices\n",
    "    print(f\"Player chooses {p_choice}.\\nCPU chooses {cpu_choice}.\")\n",
    "    # run parameters through function to check for winner of the round\n",
    "    #reference global variables\n",
    "    global player_score\n",
    "    global cpu_score\n",
    "    result = win_chk(p_choice, cpu_choice)\n",
    "    if result == 2:\n",
    "        print(\"Player has won the round!\")\n",
    "        # update player score\n",
    "        player_score = player_score + 1\n",
    "        return cpu_score, player_score\n",
    "\n",
    "    elif result == 1:\n",
    "        print(\"CPU has won the round!\")\n",
    "         # update cpu score\n",
    "        cpu_score = cpu_score + 1\n",
    "        return cpu_score, player_score\n",
    "\n",
    "    else:\n",
    "        #no score updated\n",
    "        print(\"This round is a tie\")\n",
    "\n",
    "\n",
    "\n",
    "\n",
    "\n"
   ]
  },
  {
   "cell_type": "markdown",
   "metadata": {},
   "source": [
    "#### 10. Now it's time to code the execution of the game using the functions and variables you defined above. \n",
    "\n",
    "First, create a loop structure that repeats while no player reaches the minimum score necessary to win and the number of rounds is less than the maximum number of rounds to play in a game.  \n",
    "\n",
    "Inside the loop, use the functions and variables above to create the execution of a round: ask for the player's choice, generate the random choice of the computer, show the round results, update the scores, etc. "
   ]
  },
  {
   "cell_type": "code",
   "execution_count": 12,
   "metadata": {
    "tags": []
   },
   "outputs": [
    {
     "output_type": "stream",
     "name": "stdout",
     "text": [
      "Player Score: 0\n",
      "CPU Score: 0\n",
      "Rounds to win: 2\n",
      "Player chooses rock.\n",
      "CPU chooses paper.\n",
      "CPU has won the round!\n",
      "Player Score: 0\n",
      "CPU Score: 1\n",
      "Rounds to win: 2\n",
      "Player chooses paper.\n",
      "CPU chooses rock.\n",
      "Player has won the round!\n",
      "Player Score: 1\n",
      "CPU Score: 1\n",
      "Rounds to win: 2\n",
      "Player chooses scissors.\n",
      "CPU chooses rock.\n",
      "CPU has won the round!\n",
      "The Game has ended\n"
     ]
    }
   ],
   "source": [
    "# create game loop\n",
    "# set game state \n",
    "game_on = True\n",
    "while game_on:\n",
    "    print(f\"Player Score: {player_score}\\nCPU Score: {cpu_score}\\nRounds to win: {rounds_to_win}\")\n",
    "    p_choice = player_choice(gestures)\n",
    "    cpu = cpu_choice(gestures)\n",
    "    cpu_score,player_score = game_update(p_choice, cpu)\n",
    "    if cpu_score == rounds_to_win:\n",
    "        print(\"The Game has ended\")\n",
    "        game_on = False\n",
    "    elif player_score == rounds_to_win:\n",
    "        print(\"The Game has ended\")\n",
    "        game_on = False\n",
    "    else:   \n",
    "        continue\n",
    "        \n",
    "\n",
    "\n",
    "    "
   ]
  },
  {
   "cell_type": "markdown",
   "metadata": {},
   "source": [
    "#### 11. Print the winner of the game based on who won more rounds.\n",
    "Remember that the game might be tied. "
   ]
  },
  {
   "cell_type": "code",
   "execution_count": null,
   "metadata": {},
   "outputs": [],
   "source": [
    "if cpu_score > player_score:\n",
    "    print(f\"The CPU wins the game. {cpu_score}:{player_score}\")\n",
    "elif player_score > cpu_score:\n",
    "    print(f\"The Player wins the game. {player_score}:{cpu_score}\")\n",
    "else:\n",
    "    print(\"Somehow, the game is a tie?\")"
   ]
  },
  {
   "cell_type": "markdown",
   "metadata": {},
   "source": [
    "# Bonus: Rock, Paper, Scissors, Lizard & Spock\n",
    "![](images/rpsls.jpg)\n",
    "\n",
    "In this challenge, you need to improve the previous game by adding two new options. To know more about the rules of the improved version of rock, paper, scissors, check this [link](http://www.samkass.com/theories/RPSSL.html). \n",
    "\n",
    "In addition, you will also need to improve how the game interacts with the player: the number of rounds to play, which must be an odd number, will be requested to the user until a valid number is entered. Define a new function to make that request.\n",
    "\n",
    "**Hint**: Try to reuse the code that you already coded in the previous challenge. If your code is efficient, this bonus will only consist of simple modifications to the original game."
   ]
  },
  {
   "cell_type": "code",
   "execution_count": 28,
   "metadata": {},
   "outputs": [
    {
     "output_type": "stream",
     "name": "stdout",
     "text": [
      "Thank you.\n",
      "You chose to play 3 round/s.\n",
      "Player Score: 0\n",
      "CPU Score: 0\n",
      "Rounds to win: 2\n",
      "Player chooses rock.\n",
      "CPU chooses rock.\n",
      "This round is a tie!\n",
      "Player Score: 0\n",
      "CPU Score: 0\n",
      "Rounds to win: 2\n",
      "Player chooses paper.\n",
      "CPU chooses spock.\n",
      "Player has won the round!\n",
      "Player Score: 1\n",
      "CPU Score: 0\n",
      "Rounds to win: 2\n",
      "Player chooses spock.\n",
      "CPU chooses spock.\n",
      "This round is a tie!\n",
      "3 rounds played. The Game has ended\n",
      "The Player wins the game. 1:0\n"
     ]
    }
   ],
   "source": [
    "# import choice module\n",
    "from random import choice\n",
    "# create Rock-Paper-Scissors-Lizard-Spock choice list gestures\n",
    "gestures2 =[\"rock\",\"paper\",\"scissors\", \"lizard\", \"spock\"]\n",
    "\n",
    "#create rounds for a game\n",
    "n_rounds = 0\n",
    "#define function to request number of rounds and set user control to allow selection of rounds\n",
    "def rounds_choice(rounds):\n",
    "    # loops until valid choice is made    \n",
    "    while rounds == 0:\n",
    "        #implements check for valid numeric character.\n",
    "        try:\n",
    "            choice = int(input(\"How many rounds do you want to play?\"))\n",
    "        except:\n",
    "            choice = int(input(\"That is not a valid selection. Please choose a number.\"))\n",
    "        if choice % 2 == 0:\n",
    "            # loops until an odd number is input\n",
    "            print(\"You can't play an even number of rounds. Choose an ODD number.\")\n",
    "        else: \n",
    "            rounds = choice\n",
    "            print(\"Thank you.\")\n",
    "            print(f\"You chose to play {rounds} round/s.\")\n",
    "            return choice\n",
    "\n",
    "\n",
    "# create rounds_to_win function \n",
    "def rounds_to_win(rounds):\n",
    "     rounds2win = int((rounds+1)/2)\n",
    "     return rounds2win\n",
    "\n",
    "# create player score variables\n",
    "cpu_score2 = 0\n",
    "player_score2 = 0\n",
    "\n",
    "# define function to generate CPU throw\n",
    "def CPU_turn(choice_list):\n",
    "    cpu = choice(choice_list)\n",
    "    return cpu\n",
    "\n",
    "# define function for player to choose a throw\n",
    "def player_turn(choice_list):\n",
    "    player_throw = False\n",
    "    player = input(\"Choose your throw. Choose 'Rock','Paper','Scissors', 'Lizard' or'Spock'?\").lower()\n",
    "    while not player_throw:\n",
    "        if player not in choice_list:\n",
    "            print(\"That is not a valid choice. Please, try again.\")\n",
    "            player = input( \"Choose 'Rock','Paper' or 'Scissors'.\").lower()\n",
    "        else:\n",
    "            player_throw = True\n",
    "            return player\n",
    "\n",
    "# define function for checking win, lose, tie\n",
    "def results_chk(player, cpu):\n",
    "    tie = 0\n",
    "    cp_win = 1\n",
    "    p_win = 2\n",
    "    if player == \"rock\" and (cpu == \"scissors\" or cpu == \"lizard\") or player == \"paper\" and (cpu == \"rock\" or cpu == \"spock\") or player == \"scissors\" and (cpu == \"paper\" or cpu == \"lizard\") or player == \"lizard\" and (cpu == \"spock\" or cpu == \"paper\") or player == \"spock\" and (cpu == \"scissors\" or cpu == \"rock\" ):\n",
    "        return p_win\n",
    "    elif cpu == \"rock\" and (player == \"scissors\" or player == \"lizard\") or cpu == \"paper\" and (player == \"rock\" or player == \"spock\") or cpu == \"scissors\" and (player == \"paper\" or player == \"lizard\") or cpu == \"lizard\" and (player == \"paper\" or player == \"spock\") or cpu == \"spock\" and (player == \"rock\" or player == \"scissors\") :\n",
    "        return cp_win\n",
    "    else:\n",
    "        return tie\n",
    "\n",
    "# define function to update game\n",
    "def game_update(p_choice, cpu_choice):\n",
    "    # report choices\n",
    "    print(f\"Player chooses {p_choice}.\\nCPU chooses {cpu_choice}.\")\n",
    "    # run parameters through function to check for winner of the round\n",
    "    #reference global variables\n",
    "    global cpu_score2\n",
    "    global player_score2\n",
    "    result = results_chk(p_choice, cpu_choice)\n",
    "    if result == 2:\n",
    "        print(\"Player has won the round!\")\n",
    "        # update player score\n",
    "        player_score2 = player_score2 + 1\n",
    "        return cpu_score2, player_score2\n",
    "    elif result == 1:\n",
    "        print(\"CPU has won the round!\")\n",
    "         # update cpu score\n",
    "        cpu_score2 = cpu_score2 + 1\n",
    "        return cpu_score2, player_score2\n",
    "    else:\n",
    "        #no score updated\n",
    "        print(\"This round is a tie!\")\n",
    "\n",
    "\n",
    "# create game loop\n",
    "# set total number of rounds\n",
    "tot_rounds = rounds_choice(n_rounds)\n",
    "# get rounds to win\n",
    "to_win = rounds_to_win(tot_rounds)\n",
    "# set game state \n",
    "game_on = True\n",
    "\n",
    "# #create variable to update rounds \n",
    "round_count = 0\n",
    "#set loop \n",
    "while game_on:   \n",
    "    # report scores\n",
    "    print(f\"Player Score: {player_score2}\\nCPU Score: {cpu_score2}\\nRounds to win: {to_win}\")\n",
    "    # start round\n",
    "    p1 = player_turn(gestures2)\n",
    "    cpu = CPU_turn(gestures2)\n",
    "    game_update(p1,cpu) \n",
    "    round_count += 1\n",
    "    if round_count == tot_rounds:\n",
    "        print(f\"{tot_rounds} rounds played. The Game has ended\")\n",
    "        game_on = False\n",
    "    elif cpu_score2 == to_win:\n",
    "        print(\"The Game has ended\")\n",
    "        game_on = False\n",
    "    elif player_score2 == to_win:\n",
    "        print(\"The Game has ended\")\n",
    "        game_on = False\n",
    "    else:   \n",
    "        continue\n",
    "   \n",
    "\n",
    "# Report Game Results\n",
    "if cpu_score2 > player_score2:\n",
    "    print(f\"The CPU wins the game. {cpu_score2}:{player_score2}\")\n",
    "elif player_score2 > cpu_score2:\n",
    "    print(f\"The Player wins the game. {player_score2}:{cpu_score2}\")\n",
    "else:\n",
    "    print(\"Somehow, the game is a tie.\")"
   ]
  },
  {
   "cell_type": "code",
   "execution_count": null,
   "metadata": {},
   "outputs": [],
   "source": []
  }
 ],
 "metadata": {
  "kernelspec": {
   "name": "python3",
   "display_name": "Python 3.9.6 64-bit"
  },
  "language_info": {
   "codemirror_mode": {
    "name": "ipython",
    "version": 3
   },
   "file_extension": ".py",
   "mimetype": "text/x-python",
   "name": "python",
   "nbconvert_exporter": "python",
   "pygments_lexer": "ipython3",
   "version": "3.9.6"
  },
  "interpreter": {
   "hash": "aedf8f1d51000f588b88a278d8030ee8b8cb0ccbfbd1b6163ec7fb88fccbe87e"
  }
 },
 "nbformat": 4,
 "nbformat_minor": 2
}