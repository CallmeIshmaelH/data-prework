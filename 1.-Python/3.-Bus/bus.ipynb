{
 "cells": [
  {
   "cell_type": "markdown",
   "metadata": {},
   "source": [
    "<img src=\"https://bit.ly/2VnXWr2\" width=\"100\" align=\"left\">"
   ]
  },
  {
   "cell_type": "markdown",
   "metadata": {},
   "source": [
    "# Bus\n",
    "\n",
    "This bus has a passenger entry and exit control system to monitor the number of occupants it carries and thus detect when there are too many.\n",
    "\n",
    "At each stop, the entry and exit of passengers is represented by a tuple consisting of two integer numbers.\n",
    "```\n",
    "bus_stop = (in, out)\n",
    "```\n",
    "The succession of stops is represented by a list of these tuples.\n",
    "```\n",
    "stops = [(in1, out1), (in2, out2), (in3, out3), (in4, out4)]\n",
    "```\n",
    "\n",
    "## Tools\n",
    "You don't necessarily need to use all the tools. Maybe you opt to use some of them or completely different ones, they are given to help you shape the exercise. Programming exercises can be solved in many different ways.\n",
    "* Data structures: **lists, tuples**\n",
    "* Loop: **while/for loops**\n",
    "* Functions: **min, max, len**\n",
    "\n",
    "## Tasks"
   ]
  },
  {
   "cell_type": "code",
   "execution_count": 4,
   "metadata": {},
   "outputs": [],
   "source": [
    "# Variables\n",
    "stops = [(10, 0), (4, 1), (3, 5), (3, 4), (5, 1), (1, 5), (5, 8), (4, 6), (2, 3)]"
   ]
  },
  {
   "cell_type": "markdown",
   "metadata": {},
   "source": [
    "#### 1. Calculate the number of stops."
   ]
  },
  {
   "cell_type": "code",
   "execution_count": 9,
   "metadata": {},
   "outputs": [
    {
     "output_type": "stream",
     "name": "stdout",
     "text": [
      "9\n"
     ]
    }
   ],
   "source": [
    "#find number of stops\n",
    "stops_count = 0\n",
    "#create loop to count number of stops\n",
    "for i in stops: stops_count += 1 \n",
    "print(stops_count)"
   ]
  },
  {
   "cell_type": "markdown",
   "metadata": {},
   "source": [
    "#### 2. Assign to a variable a list whose elements are the number of passengers at each stop (in-out).\n",
    "Each item depends on the previous item in the list + in - out."
   ]
  },
  {
   "cell_type": "code",
   "execution_count": 33,
   "metadata": {},
   "outputs": [
    {
     "output_type": "stream",
     "name": "stdout",
     "text": [
      "Stop1:  10\nStop2:  13\nStop3:  11\nStop4:  10\nStop5:  14\nStop6:  10\nStop7:  7\nStop8:  5\nStop9:  4\n"
     ]
    }
   ],
   "source": [
    "# create empty list for values. 0 is a placeholder value for the loop\n",
    "tot_passengers = [0]\n",
    "# create loop to take in preceding value + in - out\n",
    "for t in stops:\n",
    "    tot_passengers.append(tot_passengers[-1]+(t[0]-t[1]))\n",
    "tot_passengers.pop(0)\n",
    "\n",
    "for s,p in zip(enumerate(stops),tot_passengers): print(f\"Passengers at each stop:\\nStop{s[0]+1}: \", p)\n",
    "    \n"
   ]
  },
  {
   "cell_type": "markdown",
   "metadata": {},
   "source": [
    "#### 3. Find the maximum occupation of the bus."
   ]
  },
  {
   "cell_type": "code",
   "execution_count": 35,
   "metadata": {},
   "outputs": [
    {
     "output_type": "stream",
     "name": "stdout",
     "text": [
      "The maximum occupation of the bus at any given stop was 14.\n"
     ]
    }
   ],
   "source": [
    "\n",
    "#find the maximum occupation of the bus\n",
    "max_occupation = max(tot_passengers)\n",
    "print(f\"The maximum occupation of the bus at any given stop was {max_occupation} passengers.\")\n"
   ]
  },
  {
   "cell_type": "markdown",
   "metadata": {},
   "source": [
    "#### 4. Calculate the average occupation. And the standard deviation."
   ]
  },
  {
   "cell_type": "code",
   "execution_count": 37,
   "metadata": {},
   "outputs": [
    {
     "output_type": "stream",
     "name": "stdout",
     "text": [
      "The average occupation of the bus was 9.33 passengers.\nThe standard deviation of occupation of the bus was3.2.\n"
     ]
    }
   ],
   "source": [
    "# import numpy library\n",
    "import numpy as np\n",
    "# Calculate average occupation\n",
    "avg_occupation = np.round(np.mean(tot_passengers),2)\n",
    "print(f\"The average occupation of the bus was {avg_occupation} passengers.\")\n",
    "#calculate standard deviation of occupation\n",
    "std_occupation = np.round(np.std(tot_passengers),2)\n",
    "print(f\"The standard deviation of occupation of the bus was {std_occupation}.\")"
   ]
  },
  {
   "cell_type": "code",
   "execution_count": null,
   "metadata": {},
   "outputs": [],
   "source": []
  }
 ],
 "metadata": {
  "kernelspec": {
   "name": "python3",
   "display_name": "Python 3.8.8 64-bit (conda)"
  },
  "language_info": {
   "codemirror_mode": {
    "name": "ipython",
    "version": 3
   },
   "file_extension": ".py",
   "mimetype": "text/x-python",
   "name": "python",
   "nbconvert_exporter": "python",
   "pygments_lexer": "ipython3",
   "version": "3.8.8"
  },
  "interpreter": {
   "hash": "bc737173038500ee64930f7b30a20b246a30c38a92ef2f57e861b5c51db4d976"
  }
 },
 "nbformat": 4,
 "nbformat_minor": 2
}