{
 "cells": [
  {
   "cell_type": "markdown",
   "metadata": {},
   "source": [
    "<img src=\"https://bit.ly/2VnXWr2\" width=\"100\" align=\"left\">"
   ]
  },
  {
   "cell_type": "markdown",
   "metadata": {},
   "source": [
    "# The Snail and the Well\n",
    "\n",
    "A snail falls at the bottom of a 125 cm well. Each day the snail rises 30 cm. But at night, while sleeping, slides 20 cm because the walls are wet. How many days does it take for the snail to escape the well?\n",
    "\n",
    "**Hint**: The snail gets out of the well when it surpasses the 125cm of height.\n",
    "\n",
    "## Tools\n",
    "\n",
    "1. Loop: **while**\n",
    "2. Conditional statements: **if-else**\n",
    "3. Function: **print()**\n",
    "\n",
    "## Tasks\n",
    "\n",
    "#### 1. Assign the challenge data to variables with representative names: `well_height`, `daily_distance`, `nightly_distance` and `snail_position`."
   ]
  },
  {
   "cell_type": "code",
   "execution_count": 15,
   "metadata": {},
   "outputs": [],
   "source": [
    "#assign variables\n",
    "well_height = 125\n",
    "daily_distance = 30\n",
    "nightly_distance = 20\n",
    "snail_position = 0"
   ]
  },
  {
   "cell_type": "markdown",
   "metadata": {},
   "source": [
    "#### 2. Create a variable `days` to keep count of the days that pass until the snail escapes the well. "
   ]
  },
  {
   "cell_type": "code",
   "execution_count": 16,
   "metadata": {},
   "outputs": [],
   "source": [
    "# create variable days to count days until the great snail liberation\n",
    "days = 0"
   ]
  },
  {
   "cell_type": "markdown",
   "metadata": {},
   "source": [
    "#### 3. Find the solution to the challenge using the variables defined above. "
   ]
  },
  {
   "cell_type": "code",
   "execution_count": 17,
   "metadata": {},
   "outputs": [
    {
     "output_type": "stream",
     "name": "stdout",
     "text": [
      "1 day has passed since the snail fell into the well...yet it perseveres. It is now 10cm closer to freedom.\n2 days have passed since the snail fell into the well. It is now 20cm closer to freedom. It has not given up.\n3 days have passed since the snail fell into the well. It is now 30cm closer to freedom. It has not given up.\n4 days have passed since the snail fell into the well. It is now 40cm closer to freedom. It has not given up.\n5 days have passed since the snail fell into the well. It is now 50cm closer to freedom. It has not given up.\n6 days have passed since the snail fell into the well. It is now 60cm closer to freedom. It has not given up.\n7 days have passed since the snail fell into the well. It is now 70cm closer to freedom. It has not given up.\n8 days have passed since the snail fell into the well. It is now 80cm closer to freedom. It has not given up.\n9 days have passed since the snail fell into the well. It is now 90cm closer to freedom. It has not given up.\n10 days have passed since the snail fell into the well. It is now 100cm closer to freedom. It has not given up.\n11 days have passed since the snail fell into the well. It is now 110cm closer to freedom. It has not given up.\n12 days have passed since the snail fell into the well. It is now 120cm closer to freedom. It has not given up.\n13 days have passed since the snail fell into the well. It is now 130cm closer to freedom. It has not given up.\n"
     ]
    }
   ],
   "source": [
    "# write a while loop to determine the length of days it will take for the snail to escape the well.\n",
    "while snail_position < well_height:\n",
    "    snail_position += (daily_distance - nightly_distance)\n",
    "    days += 1\n",
    "    if days <= 1:\n",
    "        print(f\"{days} day has passed since the snail fell into the well...yet it perseveres. It is now {snail_position}cm closer to freedom.\")\n",
    "    elif days > 1:\n",
    "        print(f\"{days} days have passed since the snail fell into the well. It is now {snail_position}cm closer to freedom. It has not given up.\")\n"
   ]
  },
  {
   "cell_type": "markdown",
   "metadata": {},
   "source": [
    "#### 4. Print the solution."
   ]
  },
  {
   "cell_type": "code",
   "execution_count": 13,
   "metadata": {},
   "outputs": [
    {
     "output_type": "stream",
     "name": "stdout",
     "text": [
      "13 have passed since the snail fell into the well. At last, he is free!\n"
     ]
    }
   ],
   "source": [
    "print(f\"{days} have passed since the snail fell into the well. At last, he is free!\")\n"
   ]
  },
  {
   "cell_type": "markdown",
   "metadata": {},
   "source": [
    "## Bonus\n",
    "The distance traveled by the snail each day is now defined by a list.\n",
    "```\n",
    "advance_cm = [30, 21, 33, 77, 44, 45, 23, 45, 12, 34, 55]\n",
    "```\n",
    "On the first day, the snail rises 30cm but during the night it slides 20cm. On the second day, the snail rises 21cm but during the night it slides 20cm, and so on. \n",
    "\n",
    "#### 1. How many days does it take for the snail to escape the well?\n",
    "Follow the same guidelines as in the previous challenge.\n",
    "\n",
    "**Hint**: Remember that the snail gets out of the well when it surpasses the 125cm of height."
   ]
  },
  {
   "cell_type": "code",
   "execution_count": 44,
   "metadata": {},
   "outputs": [
    {
     "output_type": "stream",
     "name": "stdout",
     "text": [
      "1 day has passed since the snail fell into the well...yet it perseveres. It is now 115cm closer to freedom.\n2 days have passed since the snail fell into the well. It is now 114cm closer to freedom. It has not given up.\n3 days have passed since the snail fell into the well. It is now 101cm closer to freedom. It has not given up.\n4 days have passed since the snail fell into the well. It is now 44cm closer to freedom. It has not given up.\n5 days have passed since the snail fell into the well. It is now 20cm closer to freedom. It has not given up.\nThe snail has made it, having climbed 130cm.\n6 have passed since the snail fell into the well. At last, he is free!\n"
     ]
    }
   ],
   "source": [
    "#assign values to list\n",
    "advance_cm = [30, 21, 33, 77, 44, 45, 23, 45, 12, 34, 55]\n",
    "days = 0\n",
    "snail_position = 0\n",
    "# write a while loop to determine the length of days it will take for the snail to escape the well.\n",
    "while snail_position < well_height:\n",
    "    #create a for loop to iterate through the list advance_cm\n",
    "    for i in advance_cm:\n",
    "        snail_position += (i - nightly_distance)\n",
    "        days += 1\n",
    "        if days <= 1:\n",
    "            print(f\"{days} day has passed since the snail fell into the well...yet it perseveres. It is now {well_height-snail_position}cm closer to freedom.\")\n",
    "        elif days > 1 and snail_position <= well_height:\n",
    "            print(f\"{days} days have passed since the snail fell into the well. It is now {well_height-snail_position}cm closer to freedom. It has not given up.\")\n",
    "        else:\n",
    "            print(f\"The snail has made it, having climbed {snail_position}cm.\")\n",
    "            break\n",
    "\n",
    "print(f\"{days} have passed since the snail fell into the well. At last, he is free!\")"
   ]
  },
  {
   "cell_type": "markdown",
   "metadata": {},
   "source": [
    "#### 2. What is its maximum displacement in one day? And its minimum? Calculate the displacement using only the travel distance of the days used to get out of the well. \n",
    "**Hint**: Remember that displacement means the total distance risen taking into account that the snail slides at night.  "
   ]
  },
  {
   "cell_type": "code",
   "execution_count": 32,
   "metadata": {},
   "outputs": [
    {
     "output_type": "stream",
     "name": "stdout",
     "text": [
      "The furthest the triumphant snail climbed in a single day was 57cm. On its worst day, when things seemed bleakest, he only advanced 1cm.\n"
     ]
    }
   ],
   "source": [
    "# create new list of only vlaues for days required to escape the well\n",
    "daily_advance = []\n",
    "for i in advance_cm[:days]:\n",
    "    daily_advance.append(i) \n",
    "# determine maximum displacement in a single day\n",
    "max_displacement = (max(daily_advance)-nightly_distance)\n",
    "# determine minimum displacement in a single day\n",
    "min_displacement = (min(daily_advance)-nightly_distance)\n",
    "print(f\"The furthest the triumphant snail climbed in a single day was {max_displacement}cm. On its worst day, when things seemed bleakest, he only advanced {min_displacement}cm.\")\n"
   ]
  },
  {
   "cell_type": "markdown",
   "metadata": {},
   "source": [
    "#### 3. What is its average progress? Take into account the snail slides at night."
   ]
  },
  {
   "cell_type": "code",
   "execution_count": 48,
   "metadata": {},
   "outputs": [
    {
     "output_type": "stream",
     "name": "stdout",
     "text": [
      "The snails average rate of climb per day was 21.67cm per day.\nThe snails average rate of climb per day was 21.67cm per day.\n"
     ]
    }
   ],
   "source": [
    "import numpy as np\n",
    "#determine average progress\n",
    "avg_progress = np.round((sum(daily_advance)-(nightly_distance*days))/days, 2)\n",
    "print(f\"The snails average rate of climb per day was {avg_progress}cm per day.\")\n",
    "\n",
    "#alternative solution\n",
    "# create list of daily progress\n",
    "daily_prog= []\n",
    "for i in daily_advance:\n",
    "    daily_prog.append(i - nightly_distance)\n",
    "avg_prog = np.round(np.mean(daily_prog), 2)\n",
    "print(f\"The snails average rate of climb per day was {avg_prog}cm per day.\")\n"
   ]
  },
  {
   "cell_type": "markdown",
   "metadata": {},
   "source": [
    "#### 4. What is the standard deviation of its displacement? Take into account the snail slides at night."
   ]
  },
  {
   "cell_type": "code",
   "execution_count": 51,
   "metadata": {},
   "outputs": [
    {
     "output_type": "stream",
     "name": "stdout",
     "text": [
      "The standard deviation of the snail´s ascent was 17.810733343190062cm\n"
     ]
    }
   ],
   "source": [
    "# determine standard deviation of displacement\n",
    "standard_deviation = np.std(daily_advance)\n",
    "\n",
    "print(f\"The standard deviation of the snail´s ascent was {standard_deviation}cm\")\n"
   ]
  },
  {
   "cell_type": "code",
   "execution_count": null,
   "metadata": {},
   "outputs": [],
   "source": []
  }
 ],
 "metadata": {
  "kernelspec": {
   "name": "python3",
   "display_name": "Python 3.9.6 64-bit"
  },
  "language_info": {
   "codemirror_mode": {
    "name": "ipython",
    "version": 3
   },
   "file_extension": ".py",
   "mimetype": "text/x-python",
   "name": "python",
   "nbconvert_exporter": "python",
   "pygments_lexer": "ipython3",
   "version": "3.9.6"
  },
  "interpreter": {
   "hash": "aedf8f1d51000f588b88a278d8030ee8b8cb0ccbfbd1b6163ec7fb88fccbe87e"
  }
 },
 "nbformat": 4,
 "nbformat_minor": 2
}