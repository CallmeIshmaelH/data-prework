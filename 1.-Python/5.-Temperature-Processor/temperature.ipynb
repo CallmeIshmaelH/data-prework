{
 "cells": [
  {
   "cell_type": "markdown",
   "metadata": {},
   "source": [
    "<img src=\"https://bit.ly/2VnXWr2\" width=\"100\" align=\"left\">"
   ]
  },
  {
   "cell_type": "markdown",
   "metadata": {},
   "source": [
    "# Temperature Sensor\n",
    "\n",
    "There is a temperature sensor in the processor of your company's server. The company wants to analyze the data provided by the sensor to decide if they should change the cooling system for a better one. As changing the cooling system is expensive and you are an excellent data analyst, you can't make a decision without basis.\n",
    "\n",
    "## Tools\n",
    "You don't necessarily need to use all the tools. Maybe you opt to use some of them or completely different ones, they are given to help you shape the exercise. Programming exercises can be solved in many different ways.\n",
    "1. Data structures: **lists**\n",
    "2. Loops: **list comprehension**\n",
    "3. Functions: **min, max, print, len**\n",
    "4. Conditional statements: **if-elif-else**\n",
    "\n",
    "## Tasks\n",
    "The temperatures measured throughout the 24 hours of a day are:"
   ]
  },
  {
   "cell_type": "code",
   "execution_count": 14,
   "metadata": {},
   "outputs": [],
   "source": [
    "temperatures_C = [33, 66, 65, 0, 59, 60, 62, 64, 70, 76, 80, 81, 80, 83, 90, 79, 61, 53, 50, 49, 53, 48, 45, 39]"
   ]
  },
  {
   "cell_type": "markdown",
   "metadata": {},
   "source": [
    "The first element of the list is the temperature at 12am, the second element is the temperature at 1am, and so on. \n",
    "\n",
    "The company has decided that if one of the following events occurs, then the cooling system needs to be replaced for a new one to avoid damaging the processor.\n",
    "* More than 4 temperatures are greater than or equal to 70ºC.\n",
    "* Any temperature is above 80ºC.\n",
    "* The average temperature exceeds 65ºC.\n",
    "\n",
    "Follow the steps so that you can make the decision.\n",
    "\n",
    "#### 1. Find the minimum temperature of the day and store it in a variable."
   ]
  },
  {
   "cell_type": "code",
   "execution_count": 15,
   "metadata": {},
   "outputs": [
    {
     "name": "stdout",
     "output_type": "stream",
     "text": [
      "0\n"
     ]
    }
   ],
   "source": [
    "# create variable for lowest temperature of the day\n",
    "min_temp = min(temperatures_C)\n",
    "print(min_temp)"
   ]
  },
  {
   "cell_type": "markdown",
   "metadata": {},
   "source": [
    "#### 2. Find the maximum temperature of the day and store it in a variable."
   ]
  },
  {
   "cell_type": "code",
   "execution_count": 16,
   "metadata": {},
   "outputs": [
    {
     "name": "stdout",
     "output_type": "stream",
     "text": [
      "90\n"
     ]
    }
   ],
   "source": [
    "# create variable for highest temperature of the day\n",
    "max_temp = max(temperatures_C)\n",
    "print(max_temp)"
   ]
  },
  {
   "cell_type": "markdown",
   "metadata": {},
   "source": [
    "#### 3. Create a list with the temperatures that are greater than or equal to 70ºC. Store it in a variable."
   ]
  },
  {
   "cell_type": "code",
   "execution_count": 17,
   "metadata": {},
   "outputs": [
    {
     "name": "stdout",
     "output_type": "stream",
     "text": [
      "Recordings over designated heat threshold (70C):\n",
      " [70, 76, 80, 81, 80, 83, 90, 79]\n"
     ]
    }
   ],
   "source": [
    "# create list to store values\n",
    "high_temps = []\n",
    "# iterate through temperatures_C for temperatures exceeding threshold\n",
    "for t in temperatures_C: \n",
    "    if t >= 70: high_temps.append(t)\n",
    "# print list of high temperatures\n",
    "print(\"Recordings over designated heat threshold (70C):\\n\",high_temps)"
   ]
  },
  {
   "cell_type": "markdown",
   "metadata": {},
   "source": [
    "#### 4. Find the average temperature of the day and store it in a variable."
   ]
  },
  {
   "cell_type": "code",
   "execution_count": 18,
   "metadata": {},
   "outputs": [
    {
     "name": "stdout",
     "output_type": "stream",
     "text": [
      "60.25\n"
     ]
    }
   ],
   "source": [
    "#import statistics module\n",
    "import statistics as stats\n",
    "#store average temperature in variable\n",
    "avg_temp = stats.mean(temperatures_C)\n",
    "print(avg_temp) "
   ]
  },
  {
   "cell_type": "markdown",
   "metadata": {},
   "source": [
    "#### 5. Imagine that there was a sensor failure at 3am and the data for that specific hour was not recorded. How would you estimate the missing value? Replace the current value of the list at 3am for an estimation. "
   ]
  },
  {
   "cell_type": "code",
   "execution_count": 19,
   "metadata": {},
   "outputs": [
    {
     "name": "stdout",
     "output_type": "stream",
     "text": [
      "[33, 66, 65, 60.25, 59, 60, 62, 64, 70, 76, 80, 81, 80, 83, 90, 79, 61, 53, 50, 49, 53, 48, 45, 39]\n"
     ]
    }
   ],
   "source": [
    "# replace missing values with average temperature\n",
    "# index position 0 of temperatures_C corresponds to 12am, therefore, 3am corresponds to index position 3\n",
    "temperatures_C[3]= avg_temp\n",
    "print(temperatures_C)"
   ]
  },
  {
   "cell_type": "markdown",
   "metadata": {},
   "source": [
    "#### 6. Bonus: the maintenance staff is from the United States and does not understand the international metric system. Help them by converting the temperatures from Celsius to Fahrenheit.\n",
    "To know more about temperature conversion check this [link](https://en.wikipedia.org/wiki/Conversion_of_units_of_temperature).\n",
    "\n",
    "**Formula**: \n",
    "\n",
    "$F = 1.8 * C + 32$"
   ]
  },
  {
   "cell_type": "code",
   "execution_count": 20,
   "metadata": {},
   "outputs": [
    {
     "name": "stdout",
     "output_type": "stream",
     "text": [
      "Temperatures recorded (F):\n",
      "  [91.4, 150.8, 149.0, 140.45, 138.2, 140.0, 143.6, 147.2, 158.0, 168.8, 176.0, 177.8, 176.0, 181.4, 194.0, 174.2, 141.8, 127.4, 122.0, 120.2, 127.4, 118.4, 113.0, 102.2]\n"
     ]
    }
   ],
   "source": [
    "#  create function to apply formula for Fahrenheit conversion\n",
    "def Fahrenheit_converter(tempC):\n",
    "    F = (1.8 * tempC) + 32\n",
    "    return F\n",
    "# create container for results\n",
    "temperatures_F = []\n",
    "# run function through recorded list, and output results to new list\n",
    "for temps in temperatures_C:\n",
    "    temperatures_F.append(round(Fahrenheit_converter(temps),2))\n",
    "print(\"Temperatures recorded (F):\\n \",temperatures_F)\n"
   ]
  },
  {
   "cell_type": "markdown",
   "metadata": {},
   "source": [
    "#### 7. Make a decision!\n",
    "Now it's time to make a decision taking into account what you have seen until now. \n",
    "\n",
    "Remember that if one of the following events occurs, then the cooling system needs to be replaced for a new one to avoid damaging the processor.\n",
    "* More than 4 temperatures are greater than or equal to 70ºC.\n",
    "* Any temperature is above 80ºC.\n",
    "* The average temperature exceeds 65ºC.\n",
    "\n",
    "#### To make your decision, check if any of the three conditions above is met. You might need to use some of the variables you created in steps 1 to 6. Print a message to show if the cooling system needs to be changed or not."
   ]
  },
  {
   "cell_type": "code",
   "execution_count": 21,
   "metadata": {},
   "outputs": [
    {
     "name": "stdout",
     "output_type": "stream",
     "text": [
      "The cooling system needs to be changed.\n"
     ]
    }
   ],
   "source": [
    "# create function to check if any conditions are true.\n",
    "def cool_change_chk(h_temps, maxtemp, meantemp):\n",
    "    if len(h_temps) > 4 or maxtemp > 80 or meantemp > 65:\n",
    "        print(\"The cooling system needs to be changed.\")\n",
    "    else:\n",
    "        print(\"The cooling system is probably fine...probably.\")\n",
    "\n",
    "#run function on predefined variables\n",
    "cool_change_chk(high_temps,max_temp,avg_temp)"
   ]
  },
  {
   "cell_type": "markdown",
   "metadata": {},
   "source": [
    "## Bonus\n",
    "\n",
    "The company has decided that the decision you made is not valid. They want you to analyze the data again but this time, the conditions that need to be met in order to change the cooling system are different.\n",
    "\n",
    "This time, if one of the following events occurs, then the cooling system needs to be replaced:\n",
    "* The temperature is greater than 70ºC during more than 4 consecutive hours.\n",
    "* Any temperature is above 80ºC.\n",
    "* The average temperature exceeds 65ºC.\n",
    "\n",
    "Follow the steps so that you can make the decision.\n",
    "\n",
    "#### 1. Create a list with the hours where the temperature is greater than 70ºC. Store it in a variable."
   ]
  },
  {
   "cell_type": "code",
   "execution_count": 22,
   "metadata": {},
   "outputs": [
    {
     "name": "stdout",
     "output_type": "stream",
     "text": [
      "[9, 10, 11, 12, 13, 14, 15]\n"
     ]
    }
   ],
   "source": [
    "# create empty list for times\n",
    "times = []\n",
    "for i in range(0,25):times.append(i)\n",
    "# create list of tuples corresponding times to temperatures\n",
    "time_v_temp = list(zip(times,temperatures_C))\n",
    "# check the list is populated correctly\n",
    "# print(time_v_temp)\n",
    "# check new list for times and temperatures greater than 70ºC\n",
    "high_temp_hrs = []\n",
    "for recordings in time_v_temp:\n",
    "    if recordings[1] > 70:\n",
    "        high_temp_hrs.append(recordings[0])\n",
    "print(high_temp_hrs)\n"
   ]
  },
  {
   "cell_type": "markdown",
   "metadata": {},
   "source": [
    "#### 2. Check if the list you created in step 1 has more than 4 consecutive hours. "
   ]
  },
  {
   "cell_type": "code",
   "execution_count": 23,
   "metadata": {},
   "outputs": [
    {
     "name": "stdout",
     "output_type": "stream",
     "text": [
      "Temperatures exceeded threshold for more than 4 hours.\n",
      "Total consecutive hours at temperatures exceeding threshold: 6 hours\n"
     ]
    }
   ],
   "source": [
    "# define function to check and count consecutive numbers\n",
    "def consec_count(a_list):\n",
    "    #set counter and container for consecutive values\n",
    "    consecutive_count = 0\n",
    "    #for each item in the range of the list's length, \n",
    "    #if the value of that item + 1 is equal to the subsequent item, updates consecutive count\n",
    "    for i in range(len(a_list[:-1])):\n",
    "        if a_list[i]+1 == a_list[i+1]:\n",
    "            consecutive_count += 1\n",
    "    return consecutive_count\n",
    "\n",
    "\"\"\"\n",
    "# create test list to check validity of functions\n",
    "# test_dummy_hrs =[9,11,12,14,15,16,17]\n",
    "# run consecutor with test list \n",
    "consec_test = consec_count(test_dummy_hrs)\n",
    "\"\"\"\n",
    "# run function to check for consecutives\n",
    "consec_high_temp = consec_count(high_temp_hrs)\n",
    "# check if number of consecutive values is greater than 4\n",
    "\n",
    "if consec_high_temp> 4:\n",
    "    print(f\"Temperatures exceeded threshold for more than 4 hours.\\nTotal consecutive hours at temperatures exceeding threshold: {consec_high_temp} hours\")\n",
    "else:\n",
    "    print(f\"Temperatures exceeding threshold at or under 4 consecutive hours.\\nTotal consecutive hours at temperatures exceeding threshold: {consec_high_temp} hours\")    \n",
    "\n",
    "\n",
    "\n",
    "\n"
   ]
  },
  {
   "cell_type": "markdown",
   "metadata": {},
   "source": [
    "#### 3. Make the decision!\n",
    "To make your decision, check if any of the three conditions is met. Print a message to show if the cooling system needs to be changed or not."
   ]
  },
  {
   "cell_type": "code",
   "execution_count": 30,
   "metadata": {},
   "outputs": [
    {
     "name": "stdout",
     "output_type": "stream",
     "text": [
      "Server temperatures recorded exceeding 70ºC for: 6 consecutive hours\n",
      "Maximum recorded temperature in server:90ºC\n",
      "Average recorded temperature in the server: 60.25ºC\n",
      "RECOMMENDATIONS: The cooling system needs to be changed.\n"
     ]
    }
   ],
   "source": [
    "# create function to check if any conditions are true.\r\n",
    "def cool_change_chk(h_temps, maxtemp, meantemp):\r\n",
    "    if consec_high_temp > 4 or maxtemp > 80 or meantemp > 65:\r\n",
    "        print(f\"Server temperatures recorded exceeding 70ºC for: {consec_high_temp} consecutive hours\\nMaximum recorded temperature in server:{maxtemp}ºC\\nAverage recorded temperature in the server: {meantemp}ºC\\nRECOMMENDATIONS: The cooling system needs to be changed.\")\r\n",
    "    else:\r\n",
    "        print(f\"Server temperatures recorded exceeding 70ºC for: {consec_high_temp} consecutive hours\\nMaximum recorded temperature in server:{maxtemp}ºC\\nAverage recorded temperature in the server: {meantemp}ºC\\nRECOMMENDATIONS:The cooling system is probably fine...probably.\")\r\n",
    "\r\n",
    "#run function on predefined variables\r\n",
    "cool_change_chk(high_temps,max_temp,avg_temp)"
   ]
  },
  {
   "cell_type": "markdown",
   "metadata": {},
   "source": [
    "#### 4. Find the average value of the temperature lists (ºC and ºF). What is the relation between both average values?"
   ]
  },
  {
   "cell_type": "code",
   "execution_count": 43,
   "metadata": {},
   "outputs": [
    {
     "name": "stdout",
     "output_type": "stream",
     "text": [
      "Average temperature /ºC: 62.76\n",
      "Average temperature /ºF: 144.97\n",
      "Ratio of Average temperatures /ºC to /ºF: 63:144.97   (0.43)\n",
      "Ratio of Average temperatures /ºC (converted to /ºF) compared to Average temperature /ºF: 144.97:144.97    (1.0)\n"
     ]
    }
   ],
   "source": [
    "# import statistics module\r\n",
    "import statistics as stats \r\n",
    "# find average temperature for temperatures in temperatures_C and temperatures_F\r\n",
    "avg_temp_C = round(stats.mean(temperatures_C),2)\r\n",
    "avg_temp_F = round(stats.mean(temperatures_F),2)\r\n",
    "\r\n",
    "print(f\"Average temperature /ºC: {avg_temp_C}\\nAverage temperature /ºF: {avg_temp_F}\\nRatio of Average temperatures /ºC to /ºF: {round(avg_temp_C)}:{avg_temp_F}   ({round(avg_temp_C/avg_temp_F,2)})\\nRatio of Average temperatures /ºC (converted to /ºF) compared to Average temperature /ºF: {round(Fahrenheit_converter(avg_temp_C),2)}:{avg_temp_F}    ({round(Fahrenheit_converter(avg_temp_C),2)/avg_temp_F})\")"
   ]
  },
  {
   "cell_type": "markdown",
   "metadata": {},
   "source": [
    "#### 5. Find the standard deviation of the temperature lists (ºC and ºF). What is the relation between both standard deviations?"
   ]
  },
  {
   "cell_type": "code",
   "execution_count": 44,
   "metadata": {},
   "outputs": [
    {
     "name": "stdout",
     "output_type": "stream",
     "text": [
      "Standard Deviation of temperature /ºC: 14.64\n",
      "Standard Deviation of temperature /ºF: 26.36\n",
      "Standard Deviation in temperatures /ºC to /ºF: 15:26.36   (0.56)\n",
      "Ratio of Standard Deviation temperatures /ºC (converted to /ºF) compared to Standard temperature /ºF: 58.35:26.36    (2.2135811836115327)\n"
     ]
    }
   ],
   "source": [
    "# import numpy library\r\n",
    "import numpy as np\r\n",
    "# find standard deviation of temperatures in temperatures_C and temperatures_F\r\n",
    "std_temp_C = round(np.std(temperatures_C), 2)\r\n",
    "std_temp_F = round(np.std(temperatures_F), 2)\r\n",
    "print(f\"Standard Deviation of temperature /ºC: {std_temp_C}\\nStandard Deviation of temperature /ºF: {std_temp_F}\\nStandard Deviation in temperatures /ºC to /ºF: {round(std_temp_C)}:{std_temp_F}   ({round(std_temp_C/std_temp_F,2)})\\nRatio of Standard Deviation temperatures /ºC (converted to /ºF) compared to Standard temperature /ºF: {round(Fahrenheit_converter(std_temp_C),2)}:{std_temp_F}    ({round(Fahrenheit_converter(std_temp_C),2)/std_temp_F})\")"
   ]
  },
  {
   "cell_type": "code",
   "execution_count": null,
   "metadata": {},
   "outputs": [],
   "source": []
  }
 ],
 "metadata": {
  "interpreter": {
   "hash": "0bbfed66645b48ea7d36f74aa6da97b4af86e231e548020b182db87726f8d125"
  },
  "kernelspec": {
   "display_name": "Python 3.9.5 64-bit",
   "name": "python3"
  },
  "language_info": {
   "codemirror_mode": {
    "name": "ipython",
    "version": 3
   },
   "file_extension": ".py",
   "mimetype": "text/x-python",
   "name": "python",
   "nbconvert_exporter": "python",
   "pygments_lexer": "ipython3",
   "version": "3.9.5"
  }
 },
 "nbformat": 4,
 "nbformat_minor": 2
}