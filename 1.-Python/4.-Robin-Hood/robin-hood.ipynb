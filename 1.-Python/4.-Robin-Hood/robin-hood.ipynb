{
 "cells": [
  {
   "cell_type": "markdown",
   "metadata": {},
   "source": [
    "<img src=\"https://bit.ly/2VnXWr2\" width=\"100\" align=\"left\"/>"
   ]
  },
  {
   "cell_type": "markdown",
   "metadata": {},
   "source": [
    "# Robin Hood\n",
    "Robin Hood has entered a competition to win the archery contest in Sherwood. With his bow and arrows, he needs to shoot on a target and try to hit as close as possible to the center.\n",
    "\n",
    "![](images/arrows.jpg)\n",
    "\n",
    "## Context\n",
    "In this challenge, the landing position of arrows shot by archers in the competition will be represented using 2-dimensional coordinates. \n",
    "\n",
    "In the 2-dimensional space, a point can be defined by a pair of values that correspond to the horizontal coordinate (x) and the vertical coordinate (y). For example, in our case, an arrow that hits the center of the archery target will land in position (0, 0) on the coordinate axes. \n",
    "\n",
    "The space can be divided into 4 zones (quadrants): Q1, Q2, Q3, Q4. If a point is in Q1, both its x coordinate and y coordinate are positive. Any point with a null x or y coordinate is considered to not belong to any quadrant. \n",
    "\n",
    "If you want to know more about the cartesian coordinate system, you can check this [link](https://en.wikipedia.org/wiki/Cartesian_coordinate_system). \n",
    "\n",
    "## Tools\n",
    "You don't necessarily need to use all the tools. Maybe you opt to use some of them or completely different ones, they are given to help you shape the exercise. Programming exercises can be solved in many different ways.\n",
    "* Data structures: **lists, sets, tuples**\n",
    "* Conditional statements: **if-elif-else**\n",
    "* Loop: **while/for**\n",
    "* Minimum (optional sorting)\n",
    "\n",
    "## Tasks\n",
    "Robin Hood has hit the following points:"
   ]
  },
  {
   "cell_type": "code",
   "execution_count": 55,
   "metadata": {},
   "outputs": [],
   "source": [
    "points = [(4, 5), (-0, 2), (4, 7), (1, -3), (3, -2), (4, 5), (3, 2), (5, 7), (-5, 7), (2, 2), (-4, 5), (0, -2),\n",
    "          (-4, 7), (-1, 3), (-3, 2), (-4, -5), (-3, 2), (5, 7), (5, 7), (2, 2), (9, 9), (-8, -9)]"
   ]
  },
  {
   "cell_type": "markdown",
   "metadata": {},
   "source": [
    "#### 1. Robin Hood is famous for hitting an arrow with another arrow. Find the coordinates of the points where an arrow hits another arrow."
   ]
  },
  {
   "cell_type": "code",
   "execution_count": 153,
   "metadata": {},
   "outputs": [
    {
     "output_type": "stream",
     "name": "stdout",
     "text": [
      "The points where Robin Hood split his own arrows are:\n[(4, 5), (-3, 2), (5, 7), (5, 7), (2, 2)].\n"
     ]
    }
   ],
   "source": [
    "# import Counter\n",
    "from collections import Counter\n",
    "# create function to check for duplicate values in points\n",
    "def deadshot_chk(a_list):\n",
    "    # create list to hold locations of arrows hit by another arrow\n",
    "    dshot = a_list.copy()\n",
    "    # create set from list to remove duplicates\n",
    "    unique_list = list(set(a_list))\n",
    "    # compare contents of lists with for loop\n",
    "    for shot in unique_list:\n",
    "        dshot.remove(shot)\n",
    "    return dshot\n",
    "# print results\n",
    "deadshots = deadshot_chk(points)\n",
    "print(f\"The points where Robin Hood split his own arrows are:\\n{deadshots}.\")\n"
   ]
  },
  {
   "cell_type": "markdown",
   "metadata": {},
   "source": [
    "#### 2. Calculate how many arrows have fallen in each quadrant. \n",
    "**Note**: the arrows that fall in the axis (x=0 or y=0) don't belong to any quadrant."
   ]
  },
  {
   "cell_type": "code",
   "execution_count": 154,
   "metadata": {},
   "outputs": [
    {
     "output_type": "stream",
     "name": "stdout",
     "text": [
      "Arrow landed at (4, 5).\nArrow landed at (4, 7).\nArrow landed at (4, 5).\nArrow landed at (3, 2).\nArrow landed at (5, 7).\nArrow landed at (2, 2).\nArrow landed at (5, 7).\nArrow landed at (5, 7).\nArrow landed at (2, 2).\nArrow landed at (9, 9).\nTotal shots in quadrant: 10\nArrow landed at (1, -3).\nArrow landed at (3, -2).\nTotal shots in quadrant: 2\nArrow landed at (-4, -5).\nArrow landed at (-8, -9).\nTotal shots in quadrant: 2\nArrow landed at (-5, 7).\nArrow landed at (-4, 5).\nArrow landed at (-4, 7).\nArrow landed at (-1, 3).\nArrow landed at (-3, 2).\nArrow landed at (-3, 2).\nTotal shots in quadrant: 6\n"
     ]
    },
    {
     "output_type": "execute_result",
     "data": {
      "text/plain": [
       "6"
      ]
     },
     "metadata": {},
     "execution_count": 154
    }
   ],
   "source": [
    "# define quadrants with max of 10 or -10\n",
    "\n",
    "Q1 = (range(1,11),range(1,11))\n",
    "Q2 = (range(1,11),[-1,-2,-3,-4,-5,-6,-7,-8,-9,-10])\n",
    "Q3 = ([-1,-2,-3,-4,-5,-6,-7,-8,-9,-10],[-1,-2,-3,-4,-5,-6,-7,-8,-9,-10])\n",
    "Q4 = ([-1,-2,-3,-4,-5,-6,-7,-8,-9,-10],range(1,11)) \n",
    "\n",
    "# define function to count shots in a quadrant\n",
    "def quad_count(quadrant, shot_list):\n",
    "    shots_in = 0\n",
    "    for x,y in shot_list:\n",
    "        if x in quadrant[0] and y in quadrant[1]:\n",
    "            print(f\"Arrow landed at {x,y}.\")\n",
    "            shots_in += 1\n",
    "    print(f\"Total shots in quadrant: {shots_in}\")\n",
    "    return shots_in\n",
    "    \n",
    "quad_count(Q1,points)\n",
    "quad_count(Q2,points)\n",
    "quad_count(Q3,points)\n",
    "quad_count(Q4,points)\n",
    "\n",
    "\n",
    "\n",
    "\n"
   ]
  },
  {
   "cell_type": "markdown",
   "metadata": {},
   "source": [
    "#### 3. Find the point closest to the center. Calculate its distance to the center. \n",
    "Take into account that there might be more than one point at the minimum distance to the center.\n",
    "\n",
    "**Hint**: Use the Euclidean distance. You can find more information about it [here](https://en.wikipedia.org/wiki/Euclidean_distance).  \n",
    "**Hint**: Defining a function that calculates the distance to the center can help."
   ]
  },
  {
   "cell_type": "code",
   "execution_count": 155,
   "metadata": {},
   "outputs": [
    {
     "output_type": "stream",
     "name": "stdout",
     "text": [
      "The arrows closest to the center are at (0, 2) and (0, -2).\nDistance from the center: 2.0 and 2.0 respectively\n"
     ]
    }
   ],
   "source": [
    "\n",
    "from math import sqrt\n",
    "# assign value center to variable\n",
    "center = (0,0)\n",
    "# define function to calculate distance from center\n",
    "def dist_chk(center, shot_list):\n",
    "    # create variable to store Euclidean distances\n",
    "    eu_d_list = []\n",
    "    # create loop to check distance\n",
    "    for x,y in shot_list:\n",
    "        # applies euclidean distance formula to arguments\n",
    "        eu_dist = round(sqrt((x-center[0])**2+(y-center[1])**2),2)\n",
    "        # stores results of calculation to list\n",
    "        eu_d_list.append(eu_dist)\n",
    "    # creates a zipped list of arrow location and respective euclidean distance\n",
    "    return zip(eu_d_list,shot_list)\n",
    "# create a variable to contain the results of dist_chk()\n",
    "shot_dist = list(dist_chk(center, points))\n",
    "\n",
    "# check for smallest values in results\n",
    "# create container list for values\n",
    "bulls_eye = []\n",
    "for i in shot_dist:\n",
    "    # checks if the value of the distance of the current set is equal to the minimum distance of sets in the list \n",
    "    if i[0] == min(shot_dist)[0]:\n",
    "        bulls_eye.append(i)\n",
    "\n",
    "print(f\"The arrows closest to the center are at {bulls_eye[0][1]} and {bulls_eye[1][1]}.\\nDistance from the center: {bulls_eye[0][0]} and {bulls_eye[1][0]} respectively\")\n",
    "\n",
    "\n",
    "\n",
    "\n"
   ]
  },
  {
   "source": [
    "##### 4. If the archery target has a radius of 9, calculate the number of arrows that won't hit the target. \n",
    "**Hint**: Use the function created in step 3. "
   ],
   "cell_type": "markdown",
   "metadata": {}
  },
  {
   "cell_type": "code",
   "execution_count": 158,
   "metadata": {},
   "outputs": [
    {
     "output_type": "stream",
     "name": "stdout",
     "text": [
      "Robin Hood shot 20 arrows on target. He missed 2.\n"
     ]
    }
   ],
   "source": [
    "#create variable for target radius\n",
    "target_rad = 9\n",
    "# create lists for arrows on target and arrows missed \n",
    "on_target = []\n",
    "missed = []\n",
    "# create list zipped list of distances and arrow locations\n",
    "shots = dist_chk(center, points)\n",
    "# check distance of arrows against radius and add arrows on target to list\n",
    "for arrow in shots:\n",
    "    if arrow[0]<= target_rad:\n",
    "        on_target.append(arrow)\n",
    "    else:\n",
    "        missed.append(arrow)\n",
    "# count total arrows in list\n",
    "total_on_t = len(on_target)\n",
    "total_missed = len(missed)\n",
    "print(f\"Robin Hood shot {total_on_t} arrows on target. He missed {total_missed}.\")\n"
   ]
  },
  {
   "cell_type": "code",
   "execution_count": null,
   "metadata": {},
   "outputs": [],
   "source": []
  }
 ],
 "metadata": {
  "kernelspec": {
   "name": "python3",
   "display_name": "Python 3.9.6 64-bit"
  },
  "language_info": {
   "codemirror_mode": {
    "name": "ipython",
    "version": 3
   },
   "file_extension": ".py",
   "mimetype": "text/x-python",
   "name": "python",
   "nbconvert_exporter": "python",
   "pygments_lexer": "ipython3",
   "version": "3.9.6"
  },
  "interpreter": {
   "hash": "aedf8f1d51000f588b88a278d8030ee8b8cb0ccbfbd1b6163ec7fb88fccbe87e"
  }
 },
 "nbformat": 4,
 "nbformat_minor": 2
}